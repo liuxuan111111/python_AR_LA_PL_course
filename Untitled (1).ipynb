{
 "cells": [
  {
   "cell_type": "code",
   "execution_count": 3,
   "id": "e370216d-ae37-4895-9f4f-d279ca4efbef",
   "metadata": {},
   "outputs": [
    {
     "name": "stdout",
     "output_type": "stream",
     "text": [
      "Hello \n"
     ]
    }
   ],
   "source": [
    "print('Hello ')"
   ]
  },
  {
   "cell_type": "code",
   "execution_count": 2,
   "id": "c040e094-4a09-4812-9eb2-73a0e8dc2be4",
   "metadata": {},
   "outputs": [
    {
     "data": {
      "text/plain": [
       "2"
      ]
     },
     "execution_count": 2,
     "metadata": {},
     "output_type": "execute_result"
    }
   ],
   "source": [
    "1+1\n"
   ]
  },
  {
   "cell_type": "code",
   "execution_count": 3,
   "id": "5a18f2c9-00ce-4250-aebb-d786367ade6b",
   "metadata": {},
   "outputs": [
    {
     "data": {
      "text/plain": [
       "100"
      ]
     },
     "execution_count": 3,
     "metadata": {},
     "output_type": "execute_result"
    }
   ],
   "source": [
    "10*10"
   ]
  },
  {
   "cell_type": "code",
   "execution_count": 4,
   "id": "35669d15-916a-4915-950a-c61e58e64219",
   "metadata": {},
   "outputs": [
    {
     "data": {
      "text/plain": [
       "8"
      ]
     },
     "execution_count": 4,
     "metadata": {},
     "output_type": "execute_result"
    }
   ],
   "source": [
    "2**3"
   ]
  },
  {
   "cell_type": "code",
   "execution_count": 4,
   "id": "02b58a2d-30c8-4a88-8e36-058ac68d5e10",
   "metadata": {},
   "outputs": [
    {
     "name": "stdout",
     "output_type": "stream",
     "text": [
      "1\n",
      "1\n",
      "343\n"
     ]
    }
   ],
   "source": [
    "print( 3//2)\n",
    "print( 3%2)\n",
    "print(7**3)"
   ]
  },
  {
   "cell_type": "code",
   "execution_count": 6,
   "id": "ac805d14-4ac6-4180-9f19-4144c0d4fdab",
   "metadata": {},
   "outputs": [
    {
     "data": {
      "text/plain": [
       "True"
      ]
     },
     "execution_count": 6,
     "metadata": {},
     "output_type": "execute_result"
    }
   ],
   "source": [
    "2==2"
   ]
  },
  {
   "cell_type": "code",
   "execution_count": 7,
   "id": "c3f6c221-f351-452b-9d9f-54127c9f0403",
   "metadata": {},
   "outputs": [
    {
     "data": {
      "text/plain": [
       "False"
      ]
     },
     "execution_count": 7,
     "metadata": {},
     "output_type": "execute_result"
    }
   ],
   "source": [
    "2==1"
   ]
  },
  {
   "cell_type": "code",
   "execution_count": 8,
   "id": "61840bd9-3387-468e-8652-9245edaed904",
   "metadata": {},
   "outputs": [
    {
     "name": "stdout",
     "output_type": "stream",
     "text": [
      "Hello python!\n"
     ]
    }
   ],
   "source": [
    "print('Hello python!')\n"
   ]
  },
  {
   "cell_type": "code",
   "execution_count": 12,
   "id": "231d1e3c-4b1c-4abc-87cf-f28a98c1e2f1",
   "metadata": {},
   "outputs": [
    {
     "name": "stdout",
     "output_type": "stream",
     "text": [
      "11.0\n"
     ]
    }
   ],
   "source": [
    "x=5.0\n",
    "func=2*x+1 \n",
    "print(func)"
   ]
  },
  {
   "cell_type": "code",
   "execution_count": 14,
   "id": "ca8e5c8f-b66a-4c41-a15a-bfc93bf3a7d1",
   "metadata": {},
   "outputs": [
    {
     "name": "stdout",
     "output_type": "stream",
     "text": [
      "monadic_equation= 2001.0\n",
      "monadic_equation=2001.00\n",
      "monadic_equation=2001.00\n"
     ]
    }
   ],
   "source": [
    "x=200.0\n",
    "monadic_equation=10*x+1\n",
    "print(\"monadic_equation=\",monadic_equation)\n",
    "print(\"monadic_equation=%.2f\"%monadic_equation)\n",
    "print(\"monadic_equation={:.2f}\".format(monadic_equation))\n"
   ]
  },
  {
   "cell_type": "code",
   "execution_count": 28,
   "id": "b1c96428-ff19-4afa-9e53-895e8b2c79a2",
   "metadata": {},
   "outputs": [
    {
     "name": "stdout",
     "output_type": "stream",
     "text": [
      "func_2=40\n"
     ]
    }
   ],
   "source": [
    "x,y,b=2,5,7\n",
    "func_2=9*x+3*y+b\n",
    "print(\"func_2={}\".format(func_2))\n"
   ]
  },
  {
   "cell_type": "code",
   "execution_count": 13,
   "id": "d2f984dd-3756-4efb-86a8-2f330b94fa49",
   "metadata": {},
   "outputs": [
    {
     "name": "stdout",
     "output_type": "stream",
     "text": [
      "The longitude of the Xi'an coordinate is 108.94, and the latitude is 34.261013.\n"
     ]
    }
   ],
   "source": [
    "city_name=\"Xi'an\"\n",
    "coordinate_longitude=108.942292\n",
    "coordiante_latitude=34.261013\n",
    "print(\"The longitude of the Xi'an coordinate is {lon:.2f}, and the latitude is {lat}.\".format(lon=coordinate_longitude,lat=coordiante_latitude))\n"
   ]
  },
  {
   "cell_type": "code",
   "execution_count": 21,
   "id": "e1d06a26-a803-4e41-b4ae-2c07bb1540a3",
   "metadata": {},
   "outputs": [
    {
     "name": "stdout",
     "output_type": "stream",
     "text": [
      "red\n",
      "green\n",
      "blue\n"
     ]
    }
   ],
   "source": [
    "list = ['red', 'green', 'blue', 'yellow', 'white', 'black']\n",
    "print( list[0] )\n",
    "print( list[1] )\n",
    "print( list[2] )"
   ]
  },
  {
   "cell_type": "code",
   "execution_count": 22,
   "id": "1c6d3dfb-e452-47d3-b0c3-962642cea107",
   "metadata": {},
   "outputs": [
    {
     "name": "stdout",
     "output_type": "stream",
     "text": [
      "black\n",
      "white\n",
      "yellow\n"
     ]
    }
   ],
   "source": [
    "list = ['red', 'green', 'blue', 'yellow', 'white', 'black']\n",
    "print( list[-1] )\n",
    "print( list[-2] )\n",
    "print( list[-3] )"
   ]
  },
  {
   "cell_type": "code",
   "execution_count": 44,
   "id": "b5530512-236d-40ca-bcef-290835cfe711",
   "metadata": {},
   "outputs": [
    {
     "name": "stdout",
     "output_type": "stream",
     "text": [
      "['d', 'e', 'f', 'g', 'h', 'i', 'j', 'k', 'l', 'm']\n",
      "__________________________________________________\n",
      "[3:6]->['g', 'h', 'i']\n",
      "[-3:-1]->['k', 'l']\n",
      "[-3:]->['k', 'l', 'm']\n",
      "[:3]->['d', 'e', 'f']\n",
      "[:]->['d', 'e', 'f', 'g', 'h', 'i', 'j', 'k', 'l', 'm']\n"
     ]
    }
   ],
   "source": [
    "lst_s=list(map(chr,range(100,110)))\n",
    "print(lst_s)\n",
    "print(\"_\"*50)\n",
    "print(\"[3:6]->{}\".format(lst_s[3:6]))\n",
    "print(\"[-3:-1]->{}\".format(lst_s[-3:-1]))\n",
    "print(\"[-3:]->{}\".format(lst_s[-3:]))\n",
    "print(\"[:3]->{}\".format(lst_s[:3]))\n",
    "print(\"[:]->{}\".format(lst_s[:]))\n"
   ]
  },
  {
   "cell_type": "code",
   "execution_count": 47,
   "id": "63f3e3cd-1955-4bf8-a35d-f36c1850a914",
   "metadata": {},
   "outputs": [
    {
     "name": "stdout",
     "output_type": "stream",
     "text": [
      "['\\n', '\\x0b', '\\x0c', '\\r', '\\x0e', '\\x0f', '\\x10', '\\x11', '\\x12', '\\x13', '\\x14', '\\x15', '\\x16', '\\x17', '\\x18', '\\x19', '\\x1a', '\\x1b', '\\x1c', '\\x1d', '\\x1e', '\\x1f', ' ', '!', '\"', '#', '$', '%', '&', \"'\", '(', ')', '*', '+', ',', '-', '.', '/', '0', '1', '2', '3', '4', '5', '6', '7', '8', '9', ':', ';', '<', '=', '>', '?', '@', 'A', 'B', 'C', 'D', 'E', 'F', 'G', 'H', 'I', 'J', 'K', 'L', 'M', 'N', 'O', 'P', 'Q', 'R', 'S', 'T', 'U', 'V', 'W', 'X', 'Y', 'Z', '[', '\\\\', ']', '^', '_', '`', 'a', 'b', 'c', 'd', 'e', 'f', 'g', 'h', 'i', 'j', 'k', 'l', 'm']\n",
      "__________________________________________________\n",
      "[3:6]->['\\r', '\\x0e', '\\x0f']\n",
      "[-3:-1]->['k', 'l']\n",
      "[-3:]->['k', 'l', 'm']\n",
      "[:3]->['\\n', '\\x0b', '\\x0c']\n",
      "[:]->['\\n', '\\x0b', '\\x0c', '\\r', '\\x0e', '\\x0f', '\\x10', '\\x11', '\\x12', '\\x13', '\\x14', '\\x15', '\\x16', '\\x17', '\\x18', '\\x19', '\\x1a', '\\x1b', '\\x1c', '\\x1d', '\\x1e', '\\x1f', ' ', '!', '\"', '#', '$', '%', '&', \"'\", '(', ')', '*', '+', ',', '-', '.', '/', '0', '1', '2', '3', '4', '5', '6', '7', '8', '9', ':', ';', '<', '=', '>', '?', '@', 'A', 'B', 'C', 'D', 'E', 'F', 'G', 'H', 'I', 'J', 'K', 'L', 'M', 'N', 'O', 'P', 'Q', 'R', 'S', 'T', 'U', 'V', 'W', 'X', 'Y', 'Z', '[', '\\\\', ']', '^', '_', '`', 'a', 'b', 'c', 'd', 'e', 'f', 'g', 'h', 'i', 'j', 'k', 'l', 'm']\n"
     ]
    }
   ],
   "source": [
    "lst_s=list(map(chr,range(10,110)))\n",
    "print(lst_s)\n",
    "print(\"_\"*50)\n",
    "print(\"[3:6]->{}\".format(lst_s[3:6]))\n",
    "print(\"[-3:-1]->{}\".format(lst_s[-3:-1]))\n",
    "print(\"[-3:]->{}\".format(lst_s[-3:]))\n",
    "print(\"[:3]->{}\".format(lst_s[:3]))\n",
    "print(\"[:]->{}\".format(lst_s[:]))\n"
   ]
  },
  {
   "cell_type": "code",
   "execution_count": 14,
   "id": "fa120a96-ab87-4764-8c21-c5ff74f93ab4",
   "metadata": {},
   "outputs": [
    {
     "name": "stdout",
     "output_type": "stream",
     "text": [
      "<class 'list'>\n",
      "The list length=5\n",
      "Maximum value=17\n",
      "Minimum value=5\n"
     ]
    }
   ],
   "source": [
    "list_n=list(range(5,20,3)) \n",
    "print(list)\n",
    "print(\"The list length={}\".format(len(list_n)))\n",
    "print(\"Maximum value={}\".format(max(list_n)))\n",
    "print(\"Minimum value={}\".format(min(list_n)))"
   ]
  },
  {
   "cell_type": "code",
   "execution_count": 15,
   "id": "7f570ecf-4ff3-433f-bb24-a41a47c444ce",
   "metadata": {},
   "outputs": [
    {
     "name": "stdout",
     "output_type": "stream",
     "text": [
      "items->[(0, [0, 1, 2, 3, 4]), (1, [[101, 190, 109]]), (2, 'python')]\n",
      "dic=dict(items)->{0: [0, 1, 2, 3, 4], 1: [[101, 190, 109]], 2: 'python'}\n",
      "dic[1]->[[101, 190, 109]]\n"
     ]
    }
   ],
   "source": [
    "import random\n",
    "items=[(0,[i for i in range(5)]),(1,[random.sample(list(range(100,200,1)),3)]),(2,'python')] #[i for i in range(5)] 为列表推导式 list comprehension/derivation\n",
    "print(\"items->{}\".format(items))\n",
    "dic=dict(items)\n",
    "print(\"dic=dict(items)->{}\".format(dic))\n",
    "print(\"dic[1]->{}\".format(dic[1]))\n"
   ]
  },
  {
   "cell_type": "code",
   "execution_count": 45,
   "id": "edb6f25b-c946-4265-9bdf-681038b75a95",
   "metadata": {},
   "outputs": [
    {
     "name": "stdout",
     "output_type": "stream",
     "text": [
      "['d', 'e', 'f', 'g', 'h']\n",
      "__________________________________________________\n",
      "lst_s_2.append(99)->['d', 'e', 'f', 'g', 'h', 99]\n",
      "lst_s_2.append(list(range(50,80,5)))->['d', 'e', 'f', 'g', 'h', 99, [50, 55, 60, 65, 70, 75]]\n",
      "lst_s_2.extend(lst_spechars)->['d', 'e', 'f', 'g', 'h', 99, [50, 55, 60, 65, 70, 75], '*', ')', '*']\n",
      "lst_s_2.count('*')=2\n",
      "lst_s_2.index('e')=1\n",
      "lst_s_2.insert(2,[1000,1200,1500])->['d', 'e', [1000, 1200, 1500], 'f', 'g', 'h', 99, [50, 55, 60, 65, 70, 75], '*', ')', '*']\n",
      "lst_s_2.pop(7)_popup->[50, 55, 60, 65, 70, 75]\n",
      "lst_s_2.pop(7)_retention->['d', 'e', [1000, 1200, 1500], 'f', 'g', 'h', 99, '*', ')', '*']\n",
      "lst_s_2.remove('*')_retention->['d', 'e', [1000, 1200, 1500], 'f', 'g', 'h', 99, ')', '*']\n",
      "list_n_2.sort()->[2, 3, 4, 6, 42, 95]\n"
     ]
    }
   ],
   "source": [
    "lst_s_2=list(map(chr,range(100,105)))\n",
    "print(lst_s_2)\n",
    "print(\"_\"*50)\n",
    "lst_s_2.append(99)\n",
    "print(\"lst_s_2.append(99)->{}\".format(lst_s_2))\n",
    "lst_s_2.append(list(range(50,80,5)))\n",
    "print(\"lst_s_2.append(list(range(50,80,5)))->{}\".format(lst_s_2))\n",
    "lst_spechars=['*',')','*']\n",
    "lst_s_2.extend(lst_spechars)\n",
    "print(\"lst_s_2.extend(lst_spechars)->{}\".format(lst_s_2))\n",
    "print(\"lst_s_2.count('*')={}\".format(lst_s_2.count('*')))\n",
    "print(\"lst_s_2.index('e')={}\".format(lst_s_2.index('e')))\n",
    "lst_s_2.insert(2,[1000,1200,1500])\n",
    "print(\"lst_s_2.insert(2,[1000,1200,1500])->{}\".format(lst_s_2))\n",
    "print(\"lst_s_2.pop(7)_popup->{}\".format(lst_s_2.pop(7)))\n",
    "print(\"lst_s_2.pop(7)_retention->{}\".format(lst_s_2))\n",
    "lst_s_2.remove('*')\n",
    "print(\"lst_s_2.remove('*')_retention->{}\".format(lst_s_2))\n",
    "list_n_2=[2,42,6,95,4,3]\n",
    "list_n_2.sort()\n",
    "print(\"list_n_2.sort()->{}\".format(list_n_2))\n",
    "\n"
   ]
  },
  {
   "cell_type": "code",
   "execution_count": 50,
   "id": "39bd4eac-4c95-4085-830f-e43dc96ec104",
   "metadata": {},
   "outputs": [
    {
     "name": "stdout",
     "output_type": "stream",
     "text": [
      "tuple_1=2,3,5,->(2, 16, 7)\n",
      "3*(20*3,)->(60, 60, 60)\n",
      "tuple((5,8,9))->(5, 8, 9)\n",
      "tuple([5,8,9])->(5, 8, 9)\n"
     ]
    }
   ],
   "source": [
    "tuple_1=2,16,7,\n",
    "print(\"tuple_1=2,3,5,->{}\".format(tuple_1))\n",
    "print(\"3*(20*3,)->{}\".format(3*(20*3,)))\n",
    "print(\"tuple((5,8,9))->{}\".format(tuple((5,8,9)))) \n",
    "print(\"tuple([5,8,9])->{}\".format(tuple([5,8,9]))) \n",
    "print(\"tuple([5,8,9])->{}\".format(tuple([5,8,9]))) \n"
   ]
  },
  {
   "cell_type": "code",
   "execution_count": 51,
   "id": "58ed5f03-e68b-41a1-b586-5f0ddcdc803a",
   "metadata": {},
   "outputs": [
    {
     "name": "stdout",
     "output_type": "stream",
     "text": [
      "(12, 34.56, 'abc', 'xyz')\n"
     ]
    }
   ],
   "source": [
    "tup1 = (12, 34.56)\n",
    "tup2 = ('abc', 'xyz')\n",
    "tup3 = tup1 + tup2\n",
    "print (tup3)"
   ]
  },
  {
   "cell_type": "code",
   "execution_count": 54,
   "id": "d93d8221-abaf-4cea-b621-806b0056c384",
   "metadata": {
    "tags": []
   },
   "outputs": [
    {
     "name": "stdout",
     "output_type": "stream",
     "text": [
      "dict['Name']:  Runoob\n",
      "dict['Age']:  7\n"
     ]
    }
   ],
   "source": [
    "dict = {'Name': 'Runoob', 'Age': 7, 'Class': 'First'}\n",
    " \n",
    "print (\"dict['Name']: \", dict['Name'])\n",
    "print (\"dict['Age']: \", dict['Age'])"
   ]
  },
  {
   "cell_type": "code",
   "execution_count": 3,
   "id": "ab7ecdf6-146c-42c1-a97d-cbc28b064a1e",
   "metadata": {},
   "outputs": [
    {
     "name": "stdout",
     "output_type": "stream",
     "text": [
      "new_str=format_str % values->Hello,Python and Grasshopper!\n",
      "new_str_2=format_str_2 % (pi,3.1415926)->Pi with three decimals:3.142,and enter a value with percent sign:3.14 %\n"
     ]
    }
   ],
   "source": [
    "format_str=\"Hello,%s and %s!\"\n",
    "values=(\"Python\",\"Grasshopper\")\n",
    "new_str=format_str % values\n",
    "print(\"new_str=format_str % values->{}\".format(new_str))\n",
    "\n",
    "format_str_2=\"Pi with three decimals:%.3f,and enter a value with percent sign:%.2f %%\" #如果字符串里包含实际的%，则通过%%即两个百分号进行转义\n",
    "\n",
    "from math import pi\n",
    "new_str_2=format_str_2 % (pi,3.1415926)\n",
    "print(\"new_str_2=format_str_2 % (pi,3.1415926)->{}\".format(new_str_2))\n"
   ]
  },
  {
   "cell_type": "code",
   "execution_count": 51,
   "id": "bc43b9b4-3b32-4743-b87e-10a62f47ce07",
   "metadata": {},
   "outputs": [
    {
     "name": "stdout",
     "output_type": "stream",
     "text": [
      "{'Google', 'Taobao', 'jupyterlab', 'Facebook'}\n"
     ]
    },
    {
     "data": {
      "text/plain": [
       "{'Facebook', 'Google', 'Runoob', 'Taobao'}"
      ]
     },
     "execution_count": 51,
     "metadata": {},
     "output_type": "execute_result"
    }
   ],
   "source": [
    " thisset = set((\"Google\", \"jupyterlab\", \"Taobao\"))\n",
    " thisset.add(\"Facebook\")\n",
    " print(thisset)\n",
    "{'Taobao', 'Facebook', 'Google', 'Runoob'}"
   ]
  },
  {
   "cell_type": "code",
   "execution_count": 4,
   "id": "6808541f-8f69-4286-99b3-8e37597ec840",
   "metadata": {},
   "outputs": [],
   "source": [
    "class Bird:\n",
    "    fly='Whirring' \n",
    "    def __init__(self):\n",
    "        self.hungry=True\n",
    "    def eat(self):\n",
    "        if self.hungry:\n",
    "            print('Aaaah...')\n",
    "            self.hungry=False\n",
    "        else:\n",
    "            print('No.Thanks!')\n",
    "\n",
    "class Apodidae(Bird):  #/'æpədədi:/\n",
    "    def __init__(self):\n",
    "        super(Apodidae,self).__init__()\n",
    "        self.sound='Squawk!' #美 /skwɔːk/ \n",
    "    def sing(self):\n",
    "        print(self.sound)\n",
    "\n",
    "        "
   ]
  },
  {
   "cell_type": "code",
   "execution_count": 3,
   "id": "403f0e18-e2cf-4c4e-a15f-9758ac3376d6",
   "metadata": {},
   "outputs": [
    {
     "data": {
      "text/plain": [
       "5"
      ]
     },
     "execution_count": 3,
     "metadata": {},
     "output_type": "execute_result"
    }
   ],
   "source": [
    "1*5"
   ]
  },
  {
   "cell_type": "code",
   "execution_count": 4,
   "id": "52f85074-8704-49a1-a3fb-fda0fdc4357c",
   "metadata": {},
   "outputs": [
    {
     "name": "stdout",
     "output_type": "stream",
     "text": [
      "s_1=s_template_1.substitute(x=\"Python\")->Python,glorious,Python!\n",
      "s_2=s_template_2.substitute(x=\"py\")->python is amazing!\n",
      "substitute_dict={'x': 'Python', 'y': 'Grasshopper'}\n",
      "s_3=s_template_3.substitute(substitute_dict)->Python and Grasshopper are both amazing!\n"
     ]
    }
   ],
   "source": [
    "from string import Template\n",
    "s_template_1=Template(\"$x,glorious,$x!\")\n",
    "s_1=s_template_1.substitute(x=\"Python\")\n",
    "print(\"s_1=s_template_1.substitute(x=\\\"Python\\\")->{}\".format(s_1))\n",
    "s_template_2=Template(\"${x}thon is amazing!\")\n",
    "s_2=s_template_2.substitute(x=\"py\")\n",
    "print(\"s_2=s_template_2.substitute(x=\\\"py\\\")->{}\".format(s_2))\n",
    "s_template_3=Template(\"$x and $y are both amazing!\")\n",
    "substitute_dict=dict([('x','Python'),('y','Grasshopper')])\n",
    "print(\"substitute_dict={}\".format(substitute_dict))\n",
    "s_3=s_template_3.substitute(substitute_dict)\n",
    "print(\"s_3=s_template_3.substitute(substitute_dict)->{}\".format(s_3))\n"
   ]
  },
  {
   "cell_type": "code",
   "execution_count": 5,
   "id": "9e5cd729-7c59-4951-bab2-9ac85eb26dc4",
   "metadata": {},
   "outputs": [
    {
     "name": "stdout",
     "output_type": "stream",
     "text": [
      "re.findall(pattern_1,text)->['Python']\n",
      "re.findall(pattern_2,text)->[]\n"
     ]
    }
   ],
   "source": [
    "import re\n",
    "pattern_1='Python'\n",
    "text=\"Hello Python!\"\n",
    "print(\"re.findall(pattern_1,text)->{}\".format(re.findall(pattern_1,text)))\n",
    "pattern_2='python'\n",
    "print(\"re.findall(pattern_2,text)->{}\".format(re.findall(pattern_2,text)))\n"
   ]
  },
  {
   "cell_type": "code",
   "execution_count": 1,
   "id": "75b8192a-a1b6-495e-9a1f-3fec0d788192",
   "metadata": {},
   "outputs": [
    {
     "name": "stdout",
     "output_type": "stream",
     "text": [
      "what\n"
     ]
    }
   ],
   "source": [
    "print(\"what\")"
   ]
  },
  {
   "cell_type": "code",
   "execution_count": 10,
   "id": "d186d0fa-4eae-4fc8-8d72-3349c7c92a95",
   "metadata": {},
   "outputs": [],
   "source": [
    "class Bird:\n",
    "    fly='Whirring'\n",
    "    def __init__(self):\n",
    "        self.hungry=True\n",
    "    def eat(self):\n",
    "        if self.hungry:\n",
    "            print('Aaaah...')\n",
    "            self.hungry=False\n",
    "        else:\n",
    "            print('No.Thanks!')\n",
    "            "
   ]
  },
  {
   "cell_type": "code",
   "execution_count": 2,
   "id": "1987e2f4-9ace-40ec-829a-99074ff4124d",
   "metadata": {},
   "outputs": [
    {
     "name": "stdout",
     "output_type": "stream",
     "text": [
      "items->[(0, [0, 1, 2, 3, 4]), (1, [[123, 166, 184]]), (2, 'python')]\n",
      "dic=dict(items)->{0: [0, 1, 2, 3, 4], 1: [[123, 166, 184]], 2: 'python'}\n",
      "dic[1]->[[123, 166, 184]]\n"
     ]
    }
   ],
   "source": [
    "import random\n",
    "items=[(0,[i for i in range(5)]),(1,[random.sample(list(range(100,200,1)),3)]),(2,'python')] #[i for i in range(5)] 为列表推导式 list comprehension/derivation\n",
    "print(\"items->{}\".format(items))\n",
    "dic=dict(items)\n",
    "print(\"dic=dict(items)->{}\".format(dic))\n",
    "print(\"dic[1]->{}\".format(dic[1]))\n"
   ]
  },
  {
   "cell_type": "code",
   "execution_count": 3,
   "id": "bd52e690-e373-43bb-a8b1-d66485297c75",
   "metadata": {},
   "outputs": [
    {
     "name": "stdout",
     "output_type": "stream",
     "text": [
      "dict['Name']:  Runoob\n",
      "dict['Age']:  7\n"
     ]
    }
   ],
   "source": [
    "dict = {'Name': 'Runoob', 'Age': 7, 'Class': 'First'}\n",
    " \n",
    "print (\"dict['Name']: \", dict['Name'])\n",
    "print (\"dict['Age']: \", dict['Age'])"
   ]
  },
  {
   "cell_type": "code",
   "execution_count": 6,
   "id": "d9b0ccb2-43ba-44d2-a611-f25d1107974b",
   "metadata": {},
   "outputs": [
    {
     "name": "stdout",
     "output_type": "stream",
     "text": [
      "5 in dic->False\n",
      "dic.keys()->dict_keys([0, 1, 2])\n",
      "dic.values()->dict_values([[0, 1, 2, 3, 4], [[123, 166, 184]], 'python'])\n",
      "dic.items()->dict_items([(0, [0, 1, 2, 3, 4]), (1, [[123, 166, 184]]), (2, 'python')])\n",
      "__________________________________________________\n",
      "list(dic.keys())->[0, 1, 2]\n"
     ]
    }
   ],
   "source": [
    "\n",
    "print(\"5 in dic->{}\".format(5 in dic))\n",
    "print(\"dic.keys()->{}\".format(dic.keys())) #应该放在字典的方法一节里\n",
    "print(\"dic.values()->{}\".format(dic.values()))\n",
    "print(\"dic.items()->{}\".format(dic.items()))\n",
    "print(\"_\"*50)\n",
    "print(\"list(dic.keys())->{}\".format(list(dic.keys())))\n"
   ]
  },
  {
   "cell_type": "code",
   "execution_count": 5,
   "id": "93192851-f954-480d-94ee-b1ed5eef6b3d",
   "metadata": {},
   "outputs": [
    {
     "name": "stdout",
     "output_type": "stream",
     "text": [
      "lst_A=[6, 9, 12, 15, 18],lst_B=[100, 115, 130, 145]\n",
      "dic_2={0: [6, 9, 12, 15, 18], 1: [100, 115, 130, 145]}\n",
      "__________________________________________________\n",
      "dic_assignment={0: [6, 9, 12, 15, 18], 1: [100, 115, 130, 145]}\n",
      "dic_2.clear()->{}\n",
      "dic_assignment={}\n",
      "dic_2[5]=list(range(1,9,2))->{5: [1, 3, 5, 7]}\n",
      "dic_copy=dic_2.copy()->{5: [1, 3, 5, 7]}\n",
      "dic_2[8]=[5,7]->{5: [1, 3, 5, 7], 8: [5, 7]}\n",
      "dic_copy={5: [1, 3, 5, 7]}\n",
      "dic_copy[5].remove(5)->{5: [1, 3, 7]}\n",
      "dic_copy.setdefault(6,[77,99])->{5: [1, 3, 7], 6: [77, 99]}\n",
      "dic_2.pop(5)->{8: [5, 7]}\n",
      "dic_update={8: [5, 7, 6, 3, 2], 9: [3, 2, 33, 55, 66]}\n",
      "dic_2.update(dic_update->{8: [5, 7, 6, 3, 2], 9: [3, 2, 33, 55, 66]}\n",
      "dic_2.get(9)->[3, 2, 33, 55, 66]\n",
      "dic_2.popitem()->{8: [5, 7, 6, 3, 2]}\n",
      "dic_3={}.fromkeys([0,1,2,3,4,'A'])->{0: None, 1: None, 2: None, 3: None, 4: None, 'A': None}\n"
     ]
    }
   ],
   "source": [
    "lst_A=list(range(6,20,3))\n",
    "lst_B=list(range(100,150,15))\n",
    "print(\"lst_A={},lst_B={}\".format(lst_A,lst_B))\n",
    "dic_2={0:lst_A,1:lst_B}\n",
    "print(\"dic_2={}\".format(dic_2))\n",
    "print(\"_\"*50)\n",
    "dic_assignment=dic_2\n",
    "print(\"dic_assignment={}\".format(dic_assignment))\n",
    "dic_2.clear()\n",
    "print(\"dic_2.clear()->{}\".format(dic_2))\n",
    "print(\"dic_assignment={}\".format(dic_assignment))\n",
    "dic_2[5]=list(range(1,9,2))\n",
    "print(\"dic_2[5]=list(range(1,9,2))->{}\".format(dic_2))\n",
    "dic_copy=dic_2.copy()\n",
    "print(\"dic_copy=dic_2.copy()->{}\".format(dic_copy))\n",
    "dic_2[8]=[5,7]\n",
    "print(\"dic_2[8]=[5,7]->{}\".format(dic_2))\n",
    "print(\"dic_copy={}\".format(dic_copy))\n",
    "dic_copy[5].remove(5)\n",
    "print(\"dic_copy[5].remove(5)->{}\".format(dic_copy))\n",
    "dic_copy.setdefault(6,[77,99]) #返回指定键的值，如果不存在该键，则字典增加新的键/值对\n",
    "print(\"dic_copy.setdefault(6,[77,99])->{}\".format(dic_copy))\n",
    "dic_2.pop(5) #移除指定键/值，并返回该值\n",
    "print(\"dic_2.pop(5)->{}\".format(dic_2))\n",
    "dic_update={8:[5,7,6,3,2],9:[3,2,33,55,66]}\n",
    "print(\"dic_update={}\".format(dic_update))\n",
    "dic_2.update(dic_update) #更新字典\n",
    "print(\"dic_2.update(dic_update->{}\".format(dic_2))\n",
    "print(\"dic_2.get(9)->{}\".format(dic_2.get(9)))\n",
    "dic_2.popitem() #随即弹出一对键/值，并在该字典中移除\n",
    "print(\"dic_2.popitem()->{}\".format(dic_2))\n",
    "\n",
    "dic_3={}.fromkeys([0,1,2,3,4,'A']) #给定键，建立值为空的字典\n",
    "print(\"dic_3={}\"+\".fromkeys([0,1,2,3,4,'A'])->{}\".format(dic_3)) #找下escape characters 脱字符\n"
   ]
  },
  {
   "cell_type": "code",
   "execution_count": null,
   "id": "7b5ff60a-7da3-485f-b6aa-2c1989b7003a",
   "metadata": {},
   "outputs": [],
   "source": []
  },
  {
   "cell_type": "code",
   "execution_count": 2,
   "id": "4c26d336-c3ba-4f93-977d-8f898f1d39d7",
   "metadata": {},
   "outputs": [
    {
     "name": "stdout",
     "output_type": "stream",
     "text": [
      "lst_s_3=list(\"Hello Python!\")->['H', 'e', 'l', 'l', 'o', ' ', 'P', 'y', 't', 'h', 'o', 'n', '!']\n",
      "\"Hellow\"+\" Python!\"->Hellow Python!\n",
      "\"+\".join(str(123456))->1+2+3+4+5+6\n",
      "len(\"Hellow Python!\")->14\n",
      "coordinates.split(\",\")->['120.132007', '30.300508', '9.7']\n",
      "eval(coordinates)->(120.132007, 30.300508, 9.7)\n",
      "\"Hello Python!\".lower()->hello python!\n",
      "\"Hello Python!\".upper()->HELLO PYTHON!\n",
      "\"Hello Python!\"[6:]->Python!\n",
      "\"    Hello Python!    \".strip()->Hello Python!\n",
      "\"Hello Python!\".replace(\"Python\",\"Grasshopper\")->Hello Grasshopper!\n",
      "hello_lst.sort()>[' ', '!', 'H', 'P', 'e', 'h', 'l', 'l', 'n', 'o', 'o', 't', 'y']\n",
      "\"Hello Python!\".find(\"Py\")->6\n"
     ]
    }
   ],
   "source": [
    "lst_s_3=list(\"Hello Python!\")\n",
    "print(\"lst_s_3=list(\\\"Hello Python!\\\")->{}\".format(lst_s_3)) #\"\\\" escape character\n",
    "print(\"\\\"Hellow\\\"+\\\" Python!\\\"->{}\".format(\"Hellow\"+\" Python!\"))\n",
    "print(\"\\\"+\\\".join(str(123456))->{}\".format(\"+\".join(str(123456))))\n",
    "print(\"len(\\\"Hellow Python!\\\")->{}\".format(len(\"Hellow Python!\")))\n",
    "coordinates=\"120.132007,30.300508,9.7\"\n",
    "print(\"coordinates.split(\\\",\\\")->{}\".format(coordinates.split(\",\")))\n",
    "print(\"eval(coordinates)->{}\".format(eval(coordinates)))；\n",
    "print(\"\\\"Hello Python!\\\".lower()->{}\".format(\"Hello Python!\".lower()))\n",
    "print(\"\\\"Hello Python!\\\".upper()->{}\".format(\"Hello Python!\".upper()))\n",
    "print(\"\\\"Hello Python!\\\"[6:]->{}\".format(\"Hello Python!\"[6:]))\n",
    "print(\"\\\"    Hello Python!    \\\".strip()->{}\".format(\"    Hello Python!    \".strip()))\n",
    "print(\"\\\"Hello Python!\\\".replace(\\\"Python\\\",\\\"Grasshopper\\\")->{}\".format(\"Hello Python!\".replace(\"Python\",\"Grasshopper\")))\n",
    "hello_lst=list(\"Hello Python!\")\n",
    "hello_lst.sort()\n",
    "print(\"hello_lst.sort()>{}\".format(hello_lst))\n",
    "print(\"\\\"Hello Python!\\\".find(\\\"Py\\\")->{}\".format(\"Hello Python!\".find(\"Py\")))\n"
   ]
  },
  {
   "cell_type": "code",
   "execution_count": 3,
   "id": "6f9c7cab-e29f-493d-a3ff-86656cee592f",
   "metadata": {},
   "outputs": [
    {
     "name": "stdout",
     "output_type": "stream",
     "text": [
      "new_str=format_str % values->Hello,Python and Grasshopper!\n",
      "new_str_2=format_str_2 % (pi,3.1415926)->Pi with three decimals:3.142,and enter a value with percent sign:3.14 %\n"
     ]
    }
   ],
   "source": [
    "format_str=\"Hello,%s and %s!\"\n",
    "values=(\"Python\",\"Grasshopper\")\n",
    "new_str=format_str % values\n",
    "print(\"new_str=format_str % values->{}\".format(new_str))\n",
    "\n",
    "format_str_2=\"Pi with three decimals:%.3f,and enter a value with percent sign:%.2f %%\" #如果字符串里包含实际的%，则通过%%即两个百分号进行转义\n",
    "\n",
    "from math import pi\n",
    "new_str_2=format_str_2 % (pi,3.1415926)\n",
    "print(\"new_str_2=format_str_2 % (pi,3.1415926)->{}\".format(new_str_2))\n"
   ]
  },
  {
   "cell_type": "code",
   "execution_count": 4,
   "id": "113867c5-b06c-49f9-9886-b2f005bcdcff",
   "metadata": {},
   "outputs": [
    {
     "name": "stdout",
     "output_type": "stream",
     "text": [
      "s_1=s_template_1.substitute(x=\"Python\")->Python,glorious,Python!\n",
      "s_2=s_template_2.substitute(x=\"py\")->python is amazing!\n",
      "substitute_dict={'x': 'Python', 'y': 'Grasshopper'}\n",
      "s_3=s_template_3.substitute(substitute_dict)->Python and Grasshopper are both amazing!\n"
     ]
    }
   ],
   "source": [
    "from string import Template\n",
    "s_template_1=Template(\"$x,glorious,$x!\")\n",
    "s_1=s_template_1.substitute(x=\"Python\")\n",
    "print(\"s_1=s_template_1.substitute(x=\\\"Python\\\")->{}\".format(s_1))\n",
    "s_template_2=Template(\"${x}thon is amazing!\")\n",
    "s_2=s_template_2.substitute(x=\"py\")\n",
    "print(\"s_2=s_template_2.substitute(x=\\\"py\\\")->{}\".format(s_2))\n",
    "s_template_3=Template(\"$x and $y are both amazing!\")\n",
    "substitute_dict=dict([('x','Python'),('y','Grasshopper')])\n",
    "print(\"substitute_dict={}\".format(substitute_dict))\n",
    "s_3=s_template_3.substitute(substitute_dict)\n",
    "print(\"s_3=s_template_3.substitute(substitute_dict)->{}\".format(s_3))\n"
   ]
  },
  {
   "cell_type": "code",
   "execution_count": 6,
   "id": "cd510aa3-3935-4410-963c-d6fecbf101e4",
   "metadata": {},
   "outputs": [
    {
     "name": "stdout",
     "output_type": "stream",
     "text": [
      "re.findall(pattern_1,text)->['Python']\n",
      "re.findall(pattern_2,text)->[]\n"
     ]
    }
   ],
   "source": [
    "import re\n",
    "pattern_1='Python'\n",
    "text=\"Hello Python!\"\n",
    "print(\"re.findall(pattern_1,text)->{}\".format(re.findall(pattern_1,text)))\n",
    "pattern_2='python'\n",
    "print(\"re.findall(pattern_2,text)->{}\".format(re.findall(pattern_2,text)))\n"
   ]
  },
  {
   "cell_type": "code",
   "execution_count": 7,
   "id": "f25d2ddb-72f0-455f-b2eb-73b1508e73fd",
   "metadata": {},
   "outputs": [
    {
     "name": "stdout",
     "output_type": "stream",
     "text": [
      "re.findall('.ython','Hello Python!')->['Python']\n",
      "re.findall('.ython','Hello gython!')->['gython']\n",
      "re.findall('.ython','Hello gPython!')->['Python']\n",
      "re.findall('.ython','Hello Pthon!')->[]\n",
      "re.findall(r'w?cadesign\\.cn,w+\\.cadesign\\.cn','cadesign.cn,www.cadesign.cn')->['cadesign.cn,www.cadesign.cn']\n",
      "re.findall(r'w{2}\\.cadesign\\.cn','www.cadesign.cn')->['ww.cadesign.cn']\n",
      "re.findall(r'w{1,3}\\.cadesign\\.cn','www.cadesign.cn')->['www.cadesign.cn']\n",
      "re.findall('[Py]*thon!','Hello Python!')->['Python!']\n",
      "re.findall('[Py]*thon!','Hello Pthon!')->['Pthon!']\n",
      "re.findall('[Py]*thon!','Hello ython!')->['ython!']\n",
      "re.findall('[Py]*thon!','Hello ython!')->['thon!']\n",
      "re.findall('python|grasshopper','python')->['python']\n",
      "re.findall('python|grasshopper','grasshopper')->['grasshopper']\n",
      "re.findall('python|grasshopper','grasshopper and python')->['grasshopper', 'python']\n",
      "re.findall('\\d','number=10')->['1', '0']\n",
      "re.findall('\\D','number=10')->['n', 'u', 'm', 'b', 'e', 'r', '=']\n",
      "re.findall('[^0-9]','number=10')->['n', 'u', 'm', 'b', 'e', 'r', '=']\n"
     ]
    }
   ],
   "source": [
    "print(\"re.findall('.ython','Hello Python!')->{}\".format(re.findall('.ython','Hello Python!')))\n",
    "print(\"re.findall('.ython','Hello gython!')->{}\".format(re.findall('.ython','Hello gython!')))\n",
    "print(\"re.findall('.ython','Hello gPython!')->{}\".format(re.findall('.ython','Hello gPython!')))\n",
    "print(\"re.findall('.ython','Hello Pthon!')->{}\".format(re.findall('.ython','Hello Pthon!')))\n",
    "print(\"re.findall(r'w?cadesign\\.cn,w+\\.cadesign\\.cn','cadesign.cn,www.cadesign.cn')->{}\".format(re.findall(r'w?cadesign\\.cn,w+\\.cadesign\\.cn','cadesign.cn,www.cadesign.cn')))\n",
    "print(\"re.findall(r'w{2}\"+\"\\.cadesign\\.cn','www.cadesign.cn')->{}\".format(re.findall(r'w{2}\\.cadesign\\.cn','www.cadesign.cn')))\n",
    "print(\"re.findall(r'w{1,3}\"+\"\\.cadesign\\.cn','www.cadesign.cn')->{}\".format(re.findall(r'w{1,3}\\.cadesign\\.cn','www.cadesign.cn')))\n",
    "print(\"re.findall('[Py]*thon!','Hello Python!')->{}\".format(re.findall('[Py]*thon!','Hello Python!')))\n",
    "print(\"re.findall('[Py]*thon!','Hello Pthon!')->{}\".format(re.findall('[Py]*thon!','Hello Pthon!')))\n",
    "print(\"re.findall('[Py]*thon!','Hello ython!')->{}\".format(re.findall('[Py]*thon!','Hello ython!')))\n",
    "print(\"re.findall('[Py]*thon!','Hello ython!')->{}\".format(re.findall('[Py]*thon!','Hello thon!')))\n",
    "print(\"re.findall('python|grasshopper','python')->{}\".format(re.findall('python|grasshopper','python')))\n",
    "print(\"re.findall('python|grasshopper','grasshopper')->{}\".format(re.findall('python|grasshopper','grasshopper')))\n",
    "print(\"re.findall('python|grasshopper','grasshopper and python')->{}\".format(re.findall('python|grasshopper','grasshopper and python')))\n",
    "print(\"re.findall('\\d','number=10')->{}\".format(re.findall('\\d','number=10')))\n",
    "print(\"re.findall('\\D','number=10')->{}\".format(re.findall('\\D','number=10')))\n",
    "print(\"re.findall('[^0-9]','number=10')->{}\".format(re.findall('[^0-9]','number=10')))\n",
    "\n"
   ]
  },
  {
   "cell_type": "code",
   "execution_count": 8,
   "id": "1b7ba661-78f6-4a07-bee1-9ff551960618",
   "metadata": {},
   "outputs": [
    {
     "name": "stdout",
     "output_type": "stream",
     "text": [
      "re.findall('[a-z]','python')->['p', 'y', 't', 'h', 'o', 'n']\n",
      "re.search('[a-z]+','python')-><re.Match object; span=(0, 6), match='python'>\n",
      "re.search('[a-z]+','python')->found it!\n",
      "re.split(',','Hello,,,,,,Python!')->['Hello', '', '', '', '', '', 'Python!']\n",
      "re.sub('Python','Grasshopper','Hello Python!')->Hello Grasshopper!\n",
      "pattern_compile.findall('Hello,,,,,,Python!')->['Python']\n",
      "re.match('p','python')->found it!\n"
     ]
    }
   ],
   "source": [
    "print(\"re.findall('[a-z]','python')->{}\".format(re.findall('[a-z]','python-3.0')))\n",
    "print(\"re.search('[a-z]+','python')->{}\".format(re.search('[a-z]+','python')))\n",
    "if re.search('[a-z]+','python'):\n",
    "    print(\"re.search('[a-z]+','python')->found it!\")\n",
    "print(\"re.split(',','Hello,,,,,,Python!')->{}\".format(re.split(',','Hello,,,,,,Python!')))\n",
    "print(\"re.sub('Python','Grasshopper','Hello Python!')->{}\".format(re.sub('Python','Grasshopper','Hello Python!')))\n",
    "\n",
    "pattern_compile=re.compile('Python')\n",
    "print(\"pattern_compile.findall('Hello,,,,,,Python!')->{}\".format(pattern_compile.findall('Hello,,,,,,Python!')))\n",
    "\n",
    "if re.match('p','python'):\n",
    "    print(\"re.match('p','python')->found it!\")\n"
   ]
  },
  {
   "cell_type": "code",
   "execution_count": 9,
   "id": "cb3e35cc-6048-4ef4-be6f-f5b5562eadde",
   "metadata": {},
   "outputs": [
    {
     "name": "stdout",
     "output_type": "stream",
     "text": [
      "'python'.find('python')->0\n",
      "'python'.find('thon')->2\n",
      "'python'.find('a')->-1\n",
      "'p' in 'python'->True\n"
     ]
    }
   ],
   "source": [
    "print(\"\\'python\\'.find(\\'python\\')->{}\".format('python'.find('python')))\n",
    "print(\"\\'python\\'.find(\\'thon\\')->{}\".format('python'.find('thon')))\n",
    "print(\"\\'python\\'.find(\\'a\\')->{}\".format('python'.find('a')))\n",
    "print(\"\\'p\\' in \\'python\\'->{}\".format('p' in 'python'))\n"
   ]
  },
  {
   "cell_type": "code",
   "execution_count": 12,
   "id": "ebceb6c7-3e5c-4924-8bed-4c1eac0f7ecc",
   "metadata": {},
   "outputs": [
    {
     "name": "stdout",
     "output_type": "stream",
     "text": [
      "'Hello,,,,,,文化、人Python!'.split(',')->['Hello', '', '', '', '', '', 'Python!']\n",
      "'Hello Python!'.replace('Python','Grasshopper')->Hello Grasshopper!\n"
     ]
    }
   ],
   "source": [
    "print(\"\\'Hello,,,,,,文化、人Python!\\'.split(',')->{}\".format( 'Hello,,,,,,Python!'.split(',')))\n",
    "print(\"\\'Hello Python!\\'.replace(\\'Python\\',\\'Grasshopper\\')->{}\".format( 'Hello Python!'.replace('Python','Grasshopper')))\n"
   ]
  },
  {
   "cell_type": "code",
   "execution_count": 11,
   "id": "4e6a1a98-8f71-4a6b-95a7-4b39261fa232",
   "metadata": {},
   "outputs": [
    {
     "name": "stdout",
     "output_type": "stream",
     "text": [
      "match_1.gourp(1)->python\n",
      "match_1.start(1)->4\n",
      "match_1.end(1)->10\n",
      "match_1.span(1)->(4, 10)\n",
      "match_2.group(1)->python\n",
      "match_2.group(2)->org\n"
     ]
    }
   ],
   "source": [
    "match_1=re.match(r'www\\.(.*)\\..{3}','www.python.org')\n",
    "print(\"match_1.gourp(1)->{}\".format(match_1.group(1)))\n",
    "print(\"match_1.start(1)->{}\".format(match_1.start(1)))\n",
    "print(\"match_1.end(1)->{}\".format(match_1.end(1)))\n",
    "print(\"match_1.span(1)->{}\".format(match_1.span(1)))\n",
    "match_2=re.match(r'www\\.(.*)\\.(.{3})','www.python.org')\n",
    "print(\"match_2.group(1)->{}\".format(match_2.group(1)))\n",
    "print(\"match_2.group(2)->{}\".format(match_2.group(2)))\n"
   ]
  },
  {
   "cell_type": "code",
   "execution_count": 13,
   "id": "8da027a1-fe9d-4696-9a5a-80ddbfe9570a",
   "metadata": {},
   "outputs": [
    {
     "name": "stdout",
     "output_type": "stream",
     "text": [
      "lst_1=[29, 31, 33, 35]\n",
      "__________________________________________________\n",
      "for i in lst_1:\n",
      "29\n",
      "31\n",
      "33\n",
      "35\n",
      "for i in range(len(lst_1)):\n",
      "idx=0,val=29\n",
      "idx=1,val=31\n",
      "idx=2,val=33\n",
      "idx=3,val=35\n",
      "++++++++++++++++++++++++++++++++++++++++++++++++++\n",
      "dic_4={'a': 2, 'b': 3, 'c': 6, 'd': 0}\n",
      "__________________________________________________\n",
      "for k in dic_4:\n",
      "a\n",
      "b\n",
      "c\n",
      "d\n",
      "for k,v in dic_4.items():\n",
      "key=a,val=2\n",
      "key=b,val=3\n",
      "key=c,val=6\n",
      "key=d,val=0\n"
     ]
    }
   ],
   "source": [
    "lst_1=list(range(29,37,2))\n",
    "print(\"lst_1={}\".format(lst_1))\n",
    "print(\"_\"*50)\n",
    "print(\"for i in lst_1:\")\n",
    "for i in lst_1:\n",
    "    print(i)\n",
    "print(\"for i in range(len(lst_1)):\")\n",
    "for i in range(len(lst_1)):\n",
    "    print(\"idx={},val={}\".format(i,lst_1[i]))\n",
    "print(\"+\"*50)   \n",
    "dic_4=dict(a=2,b=3,c=6,d=0)\n",
    "print(\"dic_4={}\".format(dic_4))\n",
    "print(\"_\"*50)\n",
    "print(\"for k in dic_4:\")\n",
    "for k in dic_4:\n",
    "    print(k)\n",
    "print(\"for k,v in dic_4.items():\")\n",
    "for k,v in dic_4.items():\n",
    "    print(\"key={},val={}\".format(k,v))\n"
   ]
  },
  {
   "cell_type": "code",
   "execution_count": 1,
   "id": "f4f09d5d-4dfb-40bf-a5dd-152a18443f63",
   "metadata": {},
   "outputs": [
    {
     "name": "stdout",
     "output_type": "stream",
     "text": [
      "x=14\n",
      "x=24\n",
      "x=34\n",
      "x=44\n",
      "x=54\n",
      "x=64\n",
      "x=74\n",
      "x=84\n",
      "x=94\n"
     ]
    }
   ],
   "source": [
    "x=14\n",
    "while x<=100:\n",
    "    print(\"x={}\".format(x))\n",
    "    x+=10 #增量赋值; x*=2     \n"
   ]
  },
  {
   "cell_type": "code",
   "execution_count": 2,
   "id": "5fd24033-63a7-4ec9-842a-c86e46e0d416",
   "metadata": {},
   "outputs": [
    {
     "name": "stdout",
     "output_type": "stream",
     "text": [
      "x=1\n",
      "x=11\n",
      "x=21\n",
      "x=31\n",
      "x=41\n",
      "sys.maxsize=9223372036854775807\n",
      "i=0\n",
      "i=1\n",
      "i=2\n",
      "i=3\n",
      "i=4\n",
      "i=5\n",
      "i=6\n",
      "i=7\n",
      "i=8\n",
      "i=9\n",
      "i=10\n",
      "i=11\n",
      "i=12\n",
      "i=13\n",
      "i=14\n",
      "i=15\n",
      "i=16\n",
      "i=17\n",
      "i=18\n",
      "i=19\n",
      "i=20\n"
     ]
    }
   ],
   "source": [
    "x=1\n",
    "while x<=100:\n",
    "    print(\"x={}\".format(x))\n",
    "    x+=10 \n",
    "    if x>=50:break    \n",
    "    \n",
    "import sys\n",
    "print(\"sys.maxsize={}\".format(sys.maxsize))\n",
    "for i in range(sys.maxsize):\n",
    "    print(\"i={}\".format(i))  #?\n",
    "    i+=10\n",
    "    if i>=30:break\n"
   ]
  },
  {
   "cell_type": "code",
   "execution_count": 7,
   "id": "1a7f3c88-56ef-486c-971f-706266328d2c",
   "metadata": {},
   "outputs": [
    {
     "name": "stdout",
     "output_type": "stream",
     "text": [
      "fa=[1, 1, 2, 3, 5, 8, 13, 21, 34]\n",
      "fb=[55, 89, 144, 233, 377]\n"
     ]
    }
   ],
   "source": [
    "class Fibs():\n",
    "    def __init__(self):\n",
    "        self.a=0\n",
    "        self.b=1\n",
    "    def next(self):  \n",
    "        self.a,self.b=self.b,self.a+self.b\n",
    "        return self.a\n",
    "    def __iter__(self):\n",
    "        return self\n",
    "f=Fibs()\n",
    "fa=[]\n",
    "fb=[]\n",
    "for i in range(9):\n",
    "    fa.append(f.next())\n",
    "print(\"fa={}\".format(fa))\n",
    "for i in range(5):\n",
    "    fb.append(f.next())\n",
    "print(\"fb={}\".format(fb))\n"
   ]
  },
  {
   "cell_type": "code",
   "execution_count": 6,
   "id": "f5fd915e-8f35-4bc7-9739-0ef9fb68141c",
   "metadata": {},
   "outputs": [
    {
     "name": "stdout",
     "output_type": "stream",
     "text": [
      "数字猜谜游戏!\n"
     ]
    },
    {
     "name": "stdin",
     "output_type": "stream",
     "text": [
      "请输入你猜的数字： 2\n"
     ]
    },
    {
     "name": "stdout",
     "output_type": "stream",
     "text": [
      "猜的数字小了...\n"
     ]
    },
    {
     "name": "stdin",
     "output_type": "stream",
     "text": [
      "请输入你猜的数字： 5\n"
     ]
    },
    {
     "name": "stdout",
     "output_type": "stream",
     "text": [
      "猜的数字小了...\n"
     ]
    },
    {
     "name": "stdin",
     "output_type": "stream",
     "text": [
      "请输入你猜的数字： 10\n"
     ]
    },
    {
     "name": "stdout",
     "output_type": "stream",
     "text": [
      "猜的数字大了...\n"
     ]
    },
    {
     "name": "stdin",
     "output_type": "stream",
     "text": [
      "请输入你猜的数字： 8\n"
     ]
    },
    {
     "name": "stdout",
     "output_type": "stream",
     "text": [
      "猜的数字大了...\n"
     ]
    },
    {
     "name": "stdin",
     "output_type": "stream",
     "text": [
      "请输入你猜的数字： 6\n"
     ]
    },
    {
     "name": "stdout",
     "output_type": "stream",
     "text": [
      "猜的数字小了...\n"
     ]
    },
    {
     "name": "stdin",
     "output_type": "stream",
     "text": [
      "请输入你猜的数字： 7\n"
     ]
    },
    {
     "name": "stdout",
     "output_type": "stream",
     "text": [
      "恭喜，你猜对了！\n"
     ]
    }
   ],
   "source": [
    "number = 7\n",
    "guess = -1\n",
    "print(\"数字猜谜游戏!\")\n",
    "while guess != number:\n",
    "    guess = int(input(\"请输入你猜的数字：\"))\n",
    " \n",
    "    if guess == number:\n",
    "        print(\"恭喜，你猜对了！\")\n",
    "    elif guess < number:\n",
    "        print(\"猜的数字小了...\")\n",
    "    elif guess > number:\n",
    "        print(\"猜的数字大了...\")"
   ]
  },
  {
   "cell_type": "code",
   "execution_count": 7,
   "id": "6aa5ec3d-bb1a-46a8-b774-2038bbb154c8",
   "metadata": {},
   "outputs": [
    {
     "name": "stdin",
     "output_type": "stream",
     "text": [
      "输入一个数字： 8\n"
     ]
    },
    {
     "name": "stdout",
     "output_type": "stream",
     "text": [
      "你输入的数字可以整除 2，但不能整除 3\n"
     ]
    }
   ],
   "source": [
    "num=int(input(\"输入一个数字：\"))\n",
    "if num%2==0:\n",
    "    if num%3==0:\n",
    "        print (\"你输入的数字可以整除 2 和 3\")\n",
    "    else:\n",
    "        print (\"你输入的数字可以整除 2，但不能整除 3\")\n",
    "else:\n",
    "    if num%3==0:\n",
    "        print (\"你输入的数字可以整除 3，但不能整除 2\")\n",
    "    else:\n",
    "        print  (\"你输入的数字不能整除 2 和 3\")"
   ]
  },
  {
   "cell_type": "code",
   "execution_count": 1,
   "id": "fdd2e4d6-0254-416f-9614-ab3296ba0efe",
   "metadata": {},
   "outputs": [
    {
     "name": "stdout",
     "output_type": "stream",
     "text": [
      "3 in x->True\n",
      "0 in x->False\n",
      "3 not in x->False\n",
      "0 not in x->True\n"
     ]
    }
   ],
   "source": [
    "x=[3,6,9]\n",
    "print(\"3 in x->{}\".format(3 in x))\n",
    "print(\"0 in x->{}\".format(0 in x))\n",
    "print(\"3 not in x->{}\".format(3 not in x))\n",
    "print(\"0 not in x->{}\".format(0 not in x))\n"
   ]
  },
  {
   "cell_type": "code",
   "execution_count": 2,
   "id": "a0dbdd4b-2466-47e6-b556-c5e4e169a96f",
   "metadata": {},
   "outputs": [
    {
     "name": "stdout",
     "output_type": "stream",
     "text": [
      "a<c<b kidding!!!\n"
     ]
    }
   ],
   "source": [
    "a,b,c=0,10,15\n",
    "if c>a and c<b:\n",
    "    print('a<c<b')\n",
    "else: print('a<c<b kidding!!!')\n"
   ]
  },
  {
   "cell_type": "code",
   "execution_count": 6,
   "id": "c3893bc4-723a-42f6-bbf9-e2ca25abe279",
   "metadata": {},
   "outputs": [
    {
     "name": "stdout",
     "output_type": "stream",
     "text": [
      "Hello World!\n"
     ]
    }
   ],
   "source": [
    "def hello() :\n",
    "    print(\"Hello World!\")\n",
    "\n",
    "hello()"
   ]
  },
  {
   "cell_type": "code",
   "execution_count": 10,
   "id": "d20dd749-a1d1-49b9-83c7-c7b318519bc8",
   "metadata": {},
   "outputs": [
    {
     "name": "stdout",
     "output_type": "stream",
     "text": [
      "fibonacci(6,9)->[5, 8, 13, 21, 34, 55, 89, 144, 233]\n",
      "fibonacci(7,9)->[8, 13, 21, 34, 55, 89, 144, 233, 377]\n"
     ]
    }
   ],
   "source": [
    "def fibonacci(s,count): #定义fib函数的方法较笨\n",
    "    fib_lst=[0,1]\n",
    "    fib_part=[]\n",
    "    if s==0 or s==1:\n",
    "        fib_part[:]=fib_lst\n",
    "        for i in range(count-2):\n",
    "            fib_part.append(fib_part[-1]+fib_part[-2])\n",
    "    else:\n",
    "        while True:\n",
    "            fib_lst[:]=[fib_lst[1],fib_lst[0]+fib_lst[1]]\n",
    "            #print(fib_lst)\n",
    "            if fib_lst[1]-s>=0:break\n",
    "        fib_part[:]=fib_lst\n",
    "        if abs(fib_lst[0]-s)>=abs(fib_lst[1]-s):\n",
    "            for i in range(count-1):\n",
    "                fib_part.append(fib_part[-1]+fib_part[-2])\n",
    "            fib_part.pop(0)\n",
    "        else:\n",
    "            for i in range(count-2):\n",
    "                fib_part.append(fib_part[-1]+fib_part[-2])\n",
    "    return fib_part\n",
    "\n",
    "print(\"fibonacci(6,9)->{}\".format(fibonacci(6,9)))\n",
    "print(\"fibonacci(7,9)->{}\".format(fibonacci(7,9)))\n"
   ]
  },
  {
   "cell_type": "code",
   "execution_count": 11,
   "id": "db173bc3-18a2-4b50-b4ed-02973f0c54a0",
   "metadata": {},
   "outputs": [
    {
     "name": "stdout",
     "output_type": "stream",
     "text": [
      "5040\n"
     ]
    }
   ],
   "source": [
    "def factorial(n):\n",
    "    if n==1:\n",
    "        return 1\n",
    "    else:\n",
    "        return n*factorial(n-1)\n",
    "print(factorial(7))\n"
   ]
  },
  {
   "cell_type": "code",
   "execution_count": 14,
   "id": "f9635929-dc46-404f-80dc-715b4ed301fc",
   "metadata": {},
   "outputs": [
    {
     "name": "stdout",
     "output_type": "stream",
     "text": [
      "swift.fly->Whirring\n",
      "swift.eat()->\n",
      "Aaaah...\n",
      "swift.eat()->\n",
      "No.Thanks!\n",
      "swift.sing()->\n",
      "Squawk!\n"
     ]
    }
   ],
   "source": [
    "class Bird:\n",
    "    fly='Whirring' \n",
    "    def __init__(self):\n",
    "        self.hungry=True\n",
    "    def eat(self):\n",
    "        if self.hungry:\n",
    "            print('Aaaah...')\n",
    "            self.hungry=False\n",
    "        else:\n",
    "            print('No.Thanks!')\n",
    "\n",
    "class Apodidae(Bird): \n",
    "    def __init__(self):\n",
    "        super(Apodidae,self).__init__()\n",
    "        self.sound='Squawk!' \n",
    "    def sing(self):\n",
    "        print(self.sound)\n",
    "swift=Apodidae()\n",
    "print(\"swift.fly->{}\".format(swift.fly))\n",
    "print(\"swift.eat()->\")\n",
    "swift.eat()\n",
    "print(\"swift.eat()->\")\n",
    "swift.eat()\n",
    "print(\"swift.sing()->\")\n",
    "swift.sing()\n"
   ]
  },
  {
   "cell_type": "code",
   "execution_count": 15,
   "id": "796496d0-34f4-475b-af2a-01db8ca4c23f",
   "metadata": {},
   "outputs": [
    {
     "name": "stdout",
     "output_type": "stream",
     "text": [
      "blackswift.sing()->\n",
      "Squawk!\n",
      "scarceswift.sing()->\n",
      "Squawk!\n"
     ]
    }
   ],
   "source": [
    "blackswift=Apodidae()\n",
    "scarceswift=Apodidae()\n",
    "print(\"blackswift.sing()->\")\n",
    "blackswift.sing()\n",
    "print(\"scarceswift.sing()->\")\n",
    "scarceswift.sing()\n"
   ]
  },
  {
   "cell_type": "code",
   "execution_count": 18,
   "id": "b6b1a1bb-104d-4840-b2bb-42d21b72659b",
   "metadata": {},
   "outputs": [
    {
     "name": "stdout",
     "output_type": "stream",
     "text": [
      "fa=[1, 1, 2, 3, 5, 8, 13, 21, 34]\n",
      "fb=[55, 89, 144, 233, 377]\n"
     ]
    }
   ],
   "source": [
    "class Fibs():\n",
    "    def __init__(self):\n",
    "        self.a=0\n",
    "        self.b=1\n",
    "    def next(self):\n",
    "        self.a,self.b=self.b,self.a+self.b\n",
    "        return self.a\n",
    "    def __iter__(self):\n",
    "        return self\n",
    "f=Fibs()\n",
    "fa=[]\n",
    "fb=[]\n",
    "for i in range(9):\n",
    "    fa.append(f.next())\n",
    "print(\"fa={}\".format(fa))\n",
    "for i in range(5):\n",
    "    fb.append(f.next())\n",
    "print(\"fb={}\".format(fb))\n"
   ]
  },
  {
   "cell_type": "code",
   "execution_count": 21,
   "id": "a02868f3-e9d7-4b42-9db8-da152c51fd8a",
   "metadata": {},
   "outputs": [
    {
     "name": "stdout",
     "output_type": "stream",
     "text": [
      "lst_e=[[3, 6, 9, 12, 15, 18], [3, 7, 67, [0, 1, 2, 3, 4], 89]]\n",
      "__________________________________________________\n",
      "flatten_lst=[3, 6, 9, 12, 15, 18, 3, 7, 67, 0, 1, 2, 3, 4, 89]\n"
     ]
    }
   ],
   "source": [
    "lst_e=[list(range(3,20,3)),[3,7,67,list(range(5)),89]]\n",
    "print(\"lst_e={}\".format(lst_e))\n",
    "print(\"_\"*50)\n",
    "flatten_lst=[]\n",
    "for v_1 in lst_e:\n",
    "    try:\n",
    "        for v_2 in v_1:\n",
    "            try:\n",
    "                for v_3 in v_2:\n",
    "                    flatten_lst.append(v_3)\n",
    "            except TypeError:\n",
    "                flatten_lst.append(v_2)\n",
    "    except TypeError:\n",
    "        flatten_lst.append(v_1)\n",
    "print(\"flatten_lst={}\".format(flatten_lst))\n"
   ]
  },
  {
   "cell_type": "code",
   "execution_count": 24,
   "id": "df324a0f-3a64-4a84-a8a1-9533fc18cb9d",
   "metadata": {},
   "outputs": [
    {
     "name": "stdout",
     "output_type": "stream",
     "text": [
      "next(n)->num#0\n",
      "next(n)->num#1\n",
      "next(n)->num#2\n",
      "[next(n) for i in range(5)]->['num#3', 'num#4', 'num#5', 'num#6', 'num#7']\n"
     ]
    }
   ],
   "source": [
    "def infinite():\n",
    "    n=0\n",
    "    while True:\n",
    "        yield 'num#'+str(n)\n",
    "        n+=1\n",
    "def infinite():\n",
    "    n=0\n",
    "    while True:\n",
    "        yield 'num#'+str(n)\n",
    "        n+=1\n",
    "n=infinite()\n",
    "print(\"next(n)->{}\".format(next(n)))\n",
    "print(\"next(n)->{}\".format(next(n)))\n",
    "print(\"next(n)->{}\".format(next(n)))\n",
    "print(\"[next(n) for i in range(5)]->{}\".format([next(n) for i in range(5)]))\n",
    "        "
   ]
  },
  {
   "cell_type": "code",
   "execution_count": 43,
   "id": "a1dd2bb5-12f4-4185-a055-013f99e0aa6f",
   "metadata": {},
   "outputs": [
    {
     "ename": "Exception",
     "evalue": "x 不能大于 5。x 的值为: 18",
     "output_type": "error",
     "traceback": [
      "\u001b[1;31m---------------------------------------------------------------------------\u001b[0m",
      "\u001b[1;31mException\u001b[0m                                 Traceback (most recent call last)",
      "\u001b[1;32m<ipython-input-43-ff3924c10df8>\u001b[0m in \u001b[0;36m<module>\u001b[1;34m\u001b[0m\n\u001b[0;32m      1\u001b[0m \u001b[0mx\u001b[0m \u001b[1;33m=\u001b[0m \u001b[1;36m18\u001b[0m\u001b[1;33m\u001b[0m\u001b[1;33m\u001b[0m\u001b[0m\n\u001b[0;32m      2\u001b[0m \u001b[1;32mif\u001b[0m \u001b[0mx\u001b[0m \u001b[1;33m>\u001b[0m \u001b[1;36m5\u001b[0m\u001b[1;33m:\u001b[0m\u001b[1;33m\u001b[0m\u001b[1;33m\u001b[0m\u001b[0m\n\u001b[1;32m----> 3\u001b[1;33m     \u001b[1;32mraise\u001b[0m \u001b[0mException\u001b[0m\u001b[1;33m(\u001b[0m\u001b[1;34m'x 不能大于 5。x 的值为: {}'\u001b[0m\u001b[1;33m.\u001b[0m\u001b[0mformat\u001b[0m\u001b[1;33m(\u001b[0m\u001b[0mx\u001b[0m\u001b[1;33m)\u001b[0m\u001b[1;33m)\u001b[0m\u001b[1;33m\u001b[0m\u001b[1;33m\u001b[0m\u001b[0m\n\u001b[0m",
      "\u001b[1;31mException\u001b[0m: x 不能大于 5。x 的值为: 18"
     ]
    }
   ],
   "source": [
    "x = 18\n",
    "if x > 5:\n",
    "    raise Exception('x 不能大于 5。x 的值为: {}'.format(x))"
   ]
  },
  {
   "cell_type": "code",
   "execution_count": 16,
   "id": "7ac26a1a-51bc-43c8-9c99-c76150eb6911",
   "metadata": {},
   "outputs": [
    {
     "name": "stdout",
     "output_type": "stream",
     "text": [
      "f_convert_b('3.1415')->3.1415\n",
      "f_convert_b('string')->string\n"
     ]
    },
    {
     "ename": "TypeError",
     "evalue": "float() argument must be a string or a number, not 'tuple'",
     "output_type": "error",
     "traceback": [
      "\u001b[1;31m---------------------------------------------------------------------------\u001b[0m",
      "\u001b[1;31mTypeError\u001b[0m                                 Traceback (most recent call last)",
      "\u001b[1;32m<ipython-input-16-5fedd2ebaea5>\u001b[0m in \u001b[0;36m<module>\u001b[1;34m\u001b[0m\n\u001b[0;32m      6\u001b[0m \u001b[0mprint\u001b[0m\u001b[1;33m(\u001b[0m\u001b[1;34m\"f_convert_b('3.1415')->{}\"\u001b[0m\u001b[1;33m.\u001b[0m\u001b[0mformat\u001b[0m\u001b[1;33m(\u001b[0m\u001b[0mf_convert_b\u001b[0m\u001b[1;33m(\u001b[0m\u001b[1;34m'3.1415'\u001b[0m\u001b[1;33m)\u001b[0m\u001b[1;33m)\u001b[0m\u001b[1;33m)\u001b[0m\u001b[1;33m\u001b[0m\u001b[1;33m\u001b[0m\u001b[0m\n\u001b[0;32m      7\u001b[0m \u001b[0mprint\u001b[0m\u001b[1;33m(\u001b[0m\u001b[1;34m\"f_convert_b('string')->{}\"\u001b[0m\u001b[1;33m.\u001b[0m\u001b[0mformat\u001b[0m\u001b[1;33m(\u001b[0m\u001b[0mf_convert_b\u001b[0m\u001b[1;33m(\u001b[0m\u001b[1;34m'string'\u001b[0m\u001b[1;33m)\u001b[0m\u001b[1;33m)\u001b[0m\u001b[1;33m)\u001b[0m\u001b[1;33m\u001b[0m\u001b[1;33m\u001b[0m\u001b[0m\n\u001b[1;32m----> 8\u001b[1;33m \u001b[0mprint\u001b[0m\u001b[1;33m(\u001b[0m\u001b[1;34m\"f_convert_b(3,6,7)->{}\"\u001b[0m\u001b[1;33m.\u001b[0m\u001b[0mformat\u001b[0m\u001b[1;33m(\u001b[0m\u001b[0mf_convert_b\u001b[0m\u001b[1;33m(\u001b[0m\u001b[1;33m(\u001b[0m\u001b[1;36m3\u001b[0m\u001b[1;33m,\u001b[0m\u001b[1;36m6\u001b[0m\u001b[1;33m,\u001b[0m\u001b[1;36m7\u001b[0m\u001b[1;33m)\u001b[0m\u001b[1;33m)\u001b[0m\u001b[1;33m)\u001b[0m\u001b[1;33m)\u001b[0m\u001b[1;33m\u001b[0m\u001b[1;33m\u001b[0m\u001b[0m\n\u001b[0m",
      "\u001b[1;32m<ipython-input-16-5fedd2ebaea5>\u001b[0m in \u001b[0;36mf_convert_b\u001b[1;34m(x)\u001b[0m\n\u001b[0;32m      1\u001b[0m \u001b[1;32mdef\u001b[0m \u001b[0mf_convert_b\u001b[0m\u001b[1;33m(\u001b[0m\u001b[0mx\u001b[0m\u001b[1;33m)\u001b[0m\u001b[1;33m:\u001b[0m\u001b[1;33m\u001b[0m\u001b[1;33m\u001b[0m\u001b[0m\n\u001b[0;32m      2\u001b[0m     \u001b[1;32mtry\u001b[0m\u001b[1;33m:\u001b[0m\u001b[1;33m\u001b[0m\u001b[1;33m\u001b[0m\u001b[0m\n\u001b[1;32m----> 3\u001b[1;33m         \u001b[1;32mreturn\u001b[0m \u001b[0mfloat\u001b[0m\u001b[1;33m(\u001b[0m\u001b[0mx\u001b[0m\u001b[1;33m)\u001b[0m\u001b[1;33m\u001b[0m\u001b[1;33m\u001b[0m\u001b[0m\n\u001b[0m\u001b[0;32m      4\u001b[0m     \u001b[1;32mexcept\u001b[0m \u001b[0mValueError\u001b[0m\u001b[1;33m:\u001b[0m\u001b[1;33m\u001b[0m\u001b[1;33m\u001b[0m\u001b[0m\n\u001b[0;32m      5\u001b[0m         \u001b[1;32mreturn\u001b[0m \u001b[0mx\u001b[0m\u001b[1;33m\u001b[0m\u001b[1;33m\u001b[0m\u001b[0m\n",
      "\u001b[1;31mTypeError\u001b[0m: float() argument must be a string or a number, not 'tuple'"
     ]
    }
   ],
   "source": [
    "def f_convert_b(x):\n",
    "    try:\n",
    "        return float(x)\n",
    "    except ValueError:\n",
    "        return x\n",
    "print(\"f_convert_b('3.1415')->{}\".format(f_convert_b('3.1415')))    \n",
    "print(\"f_convert_b('string')->{}\".format(f_convert_b('string')))  \n",
    "print(\"f_convert_b(3,6,7)->{}\".format(f_convert_b((3,6,7))))  \n"
   ]
  },
  {
   "cell_type": "code",
   "execution_count": 17,
   "id": "a6429f4b-c955-4fc2-97f5-2ebc05c45d9b",
   "metadata": {},
   "outputs": [
    {
     "name": "stdout",
     "output_type": "stream",
     "text": [
      "f_convert_a('3.1415')->3.1415\n",
      "f_convert_a('string')->string\n",
      "f_convert_a(3,6,7)->(3, 6, 7)\n"
     ]
    }
   ],
   "source": [
    "def f_convert_a(x):\n",
    "    try:\n",
    "        return float(x)\n",
    "    except:\n",
    "        return x\n",
    "print(\"f_convert_a('3.1415')->{}\".format(f_convert_a('3.1415')))    \n",
    "print(\"f_convert_a('string')->{}\".format(f_convert_a('string')))  \n",
    "print(\"f_convert_a(3,6,7)->{}\".format(f_convert_a((3,6,7))))  \n"
   ]
  },
  {
   "cell_type": "code",
   "execution_count": 19,
   "id": "dd88ca64-82b3-4ffd-8075-d9ce4061734c",
   "metadata": {},
   "outputs": [
    {
     "name": "stdout",
     "output_type": "stream",
     "text": [
      "f_convert_b('3.1415')->3.1415\n",
      "f_convert_b('string')->string\n"
     ]
    },
    {
     "ename": "TypeError",
     "evalue": "float() argument must be a string or a number, not 'tuple'",
     "output_type": "error",
     "traceback": [
      "\u001b[1;31m---------------------------------------------------------------------------\u001b[0m",
      "\u001b[1;31mTypeError\u001b[0m                                 Traceback (most recent call last)",
      "\u001b[1;32m<ipython-input-19-5fedd2ebaea5>\u001b[0m in \u001b[0;36m<module>\u001b[1;34m\u001b[0m\n\u001b[0;32m      6\u001b[0m \u001b[0mprint\u001b[0m\u001b[1;33m(\u001b[0m\u001b[1;34m\"f_convert_b('3.1415')->{}\"\u001b[0m\u001b[1;33m.\u001b[0m\u001b[0mformat\u001b[0m\u001b[1;33m(\u001b[0m\u001b[0mf_convert_b\u001b[0m\u001b[1;33m(\u001b[0m\u001b[1;34m'3.1415'\u001b[0m\u001b[1;33m)\u001b[0m\u001b[1;33m)\u001b[0m\u001b[1;33m)\u001b[0m\u001b[1;33m\u001b[0m\u001b[1;33m\u001b[0m\u001b[0m\n\u001b[0;32m      7\u001b[0m \u001b[0mprint\u001b[0m\u001b[1;33m(\u001b[0m\u001b[1;34m\"f_convert_b('string')->{}\"\u001b[0m\u001b[1;33m.\u001b[0m\u001b[0mformat\u001b[0m\u001b[1;33m(\u001b[0m\u001b[0mf_convert_b\u001b[0m\u001b[1;33m(\u001b[0m\u001b[1;34m'string'\u001b[0m\u001b[1;33m)\u001b[0m\u001b[1;33m)\u001b[0m\u001b[1;33m)\u001b[0m\u001b[1;33m\u001b[0m\u001b[1;33m\u001b[0m\u001b[0m\n\u001b[1;32m----> 8\u001b[1;33m \u001b[0mprint\u001b[0m\u001b[1;33m(\u001b[0m\u001b[1;34m\"f_convert_b(3,6,7)->{}\"\u001b[0m\u001b[1;33m.\u001b[0m\u001b[0mformat\u001b[0m\u001b[1;33m(\u001b[0m\u001b[0mf_convert_b\u001b[0m\u001b[1;33m(\u001b[0m\u001b[1;33m(\u001b[0m\u001b[1;36m3\u001b[0m\u001b[1;33m,\u001b[0m\u001b[1;36m6\u001b[0m\u001b[1;33m,\u001b[0m\u001b[1;36m7\u001b[0m\u001b[1;33m)\u001b[0m\u001b[1;33m)\u001b[0m\u001b[1;33m)\u001b[0m\u001b[1;33m)\u001b[0m\u001b[1;33m\u001b[0m\u001b[1;33m\u001b[0m\u001b[0m\n\u001b[0m",
      "\u001b[1;32m<ipython-input-19-5fedd2ebaea5>\u001b[0m in \u001b[0;36mf_convert_b\u001b[1;34m(x)\u001b[0m\n\u001b[0;32m      1\u001b[0m \u001b[1;32mdef\u001b[0m \u001b[0mf_convert_b\u001b[0m\u001b[1;33m(\u001b[0m\u001b[0mx\u001b[0m\u001b[1;33m)\u001b[0m\u001b[1;33m:\u001b[0m\u001b[1;33m\u001b[0m\u001b[1;33m\u001b[0m\u001b[0m\n\u001b[0;32m      2\u001b[0m     \u001b[1;32mtry\u001b[0m\u001b[1;33m:\u001b[0m\u001b[1;33m\u001b[0m\u001b[1;33m\u001b[0m\u001b[0m\n\u001b[1;32m----> 3\u001b[1;33m         \u001b[1;32mreturn\u001b[0m \u001b[0mfloat\u001b[0m\u001b[1;33m(\u001b[0m\u001b[0mx\u001b[0m\u001b[1;33m)\u001b[0m\u001b[1;33m\u001b[0m\u001b[1;33m\u001b[0m\u001b[0m\n\u001b[0m\u001b[0;32m      4\u001b[0m     \u001b[1;32mexcept\u001b[0m \u001b[0mValueError\u001b[0m\u001b[1;33m:\u001b[0m\u001b[1;33m\u001b[0m\u001b[1;33m\u001b[0m\u001b[0m\n\u001b[0;32m      5\u001b[0m         \u001b[1;32mreturn\u001b[0m \u001b[0mx\u001b[0m\u001b[1;33m\u001b[0m\u001b[1;33m\u001b[0m\u001b[0m\n",
      "\u001b[1;31mTypeError\u001b[0m: float() argument must be a string or a number, not 'tuple'"
     ]
    }
   ],
   "source": [
    "def f_convert_b(x):\n",
    "    try:\n",
    "        return float(x)\n",
    "    except ValueError:\n",
    "        return x\n",
    "print(\"f_convert_b('3.1415')->{}\".format(f_convert_b('3.1415')))    \n",
    "print(\"f_convert_b('string')->{}\".format(f_convert_b('string')))  \n",
    "print(\"f_convert_b(3,6,7)->{}\".format(f_convert_b((3,6,7))))  \n"
   ]
  },
  {
   "cell_type": "code",
   "execution_count": 20,
   "id": "ccaa7d1f-32fa-4d57-87b1-c7318c5c64a9",
   "metadata": {},
   "outputs": [
    {
     "name": "stdout",
     "output_type": "stream",
     "text": [
      "f_convert_c('3.1415')->3.1415\n",
      "f_convert_c('string')->string\n",
      "(3, 6, 7) TypeError\n",
      "f_convert_c(3,6,7)->None\n"
     ]
    }
   ],
   "source": [
    "def f_convert_c(x):\n",
    "    try:\n",
    "        return float(x)\n",
    "    except ValueError:\n",
    "        return x\n",
    "    except TypeError:\n",
    "        print(x,'TypeError')\n",
    "print(\"f_convert_c('3.1415')->{}\".format(f_convert_c('3.1415')))    \n",
    "print(\"f_convert_c('string')->{}\".format(f_convert_c('string')))  \n",
    "print(\"f_convert_c(3,6,7)->{}\".format(f_convert_c((3,6,7))))         \n"
   ]
  },
  {
   "cell_type": "code",
   "execution_count": 21,
   "id": "8dbef6dd-15e4-443b-b8e2-0b29915a89b8",
   "metadata": {},
   "outputs": [
    {
     "name": "stdout",
     "output_type": "stream",
     "text": [
      "f_convert_d('3.1415')->3.1415\n",
      "string ValueError or TypeError\n",
      "f_convert_d('string')->None\n",
      "(3, 6, 7) ValueError or TypeError\n",
      "f_convert_d(3,6,7)->None\n"
     ]
    }
   ],
   "source": [
    "def f_convert_d(x):\n",
    "    try:\n",
    "        return float(x)\n",
    "    except (ValueError,TypeError):\n",
    "        print(x,'ValueError or TypeError')\n",
    "print(\"f_convert_d('3.1415')->{}\".format(f_convert_d('3.1415')))    \n",
    "print(\"f_convert_d('string')->{}\".format(f_convert_d('string')))  \n",
    "print(\"f_convert_d(3,6,7)->{}\".format(f_convert_d((3,6,7)))) \n"
   ]
  },
  {
   "cell_type": "code",
   "execution_count": 22,
   "id": "36823649-1e80-403e-8242-98187d1ec1bc",
   "metadata": {},
   "outputs": [
    {
     "name": "stdout",
     "output_type": "stream",
     "text": [
      "f_convert_f('3.1415')->3.1415\n",
      "f_convert_f('string')->None\n",
      "f_convert_f(3,6,7)->None\n"
     ]
    }
   ],
   "source": [
    "def f_convert_f(x):\n",
    "    try:\n",
    "        return float(x)\n",
    "    except (ValueError,TypeError) as e:\n",
    "        pass\n",
    "print(\"f_convert_f('3.1415')->{}\".format(f_convert_f('3.1415')))    \n",
    "print(\"f_convert_f('string')->{}\".format(f_convert_f('string')))  \n",
    "print(\"f_convert_f(3,6,7)->{}\".format(f_convert_f((3,6,7))))     \n"
   ]
  },
  {
   "cell_type": "code",
   "execution_count": 23,
   "id": "3d8fb897-ca93-42a1-bf25-317ca37fcc1e",
   "metadata": {},
   "outputs": [
    {
     "name": "stdout",
     "output_type": "stream",
     "text": [
      "Unable to open ./data/tryException.txt :[Errno 2] No such file or directory: './data/tryException.txt'\n",
      "\n",
      "tryException_content->None\n",
      "Unable to open ./data/tryException_.txt :[Errno 2] No such file or directory: './data/tryException_.txt'\n",
      "\n"
     ]
    }
   ],
   "source": [
    "def f_open_a(fp):\n",
    "    try:\n",
    "        f=open(fp,'r')\n",
    "    except IOError as e:\n",
    "        print('Unable to open',fp,':%s\\n' %e)\n",
    "    else:\n",
    "        data=f.read()\n",
    "        f.close\n",
    "        return data\n",
    "tryException_content=f_open_a(\"./data/tryException.txt\")   \n",
    "print(\"tryException_content->{}\".format(tryException_content))\n",
    "f_open_a(\"./data/tryException_.txt\")\n"
   ]
  },
  {
   "cell_type": "code",
   "execution_count": 24,
   "id": "e63c1459-51bb-4b78-b7d9-8c55115b8c00",
   "metadata": {},
   "outputs": [
    {
     "name": "stdout",
     "output_type": "stream",
     "text": [
      "Unable to open ./data/tryException.txt :[Errno 2] No such file or directory: './data/tryException.txt'\n",
      "\n",
      "done!\n"
     ]
    }
   ],
   "source": [
    "def f_open_b(fp):\n",
    "    try:\n",
    "        f=open(fp,'r')\n",
    "    except IOError as e:\n",
    "        print('Unable to open',fp,':%s\\n' %e)\n",
    "    else:\n",
    "        data=f.read()\n",
    "        f.close()\n",
    "        return data\n",
    "    finally:\n",
    "        print('done!')\n",
    "f_open_b(\"./data/tryException.txt\")        \n"
   ]
  },
  {
   "cell_type": "code",
   "execution_count": 32,
   "id": "0dfab593-76af-4c48-96f7-77bc3f50866e",
   "metadata": {},
   "outputs": [],
   "source": [
    "x=20\n",
    "assert x>0"
   ]
  },
  {
   "cell_type": "code",
   "execution_count": 34,
   "id": "0f82f355-0956-4517-8947-98277056f82e",
   "metadata": {},
   "outputs": [
    {
     "ename": "AssertionError",
     "evalue": "",
     "output_type": "error",
     "traceback": [
      "\u001b[1;31m---------------------------------------------------------------------------\u001b[0m",
      "\u001b[1;31mAssertionError\u001b[0m                            Traceback (most recent call last)",
      "\u001b[1;32m<ipython-input-34-2cd63672d0f8>\u001b[0m in \u001b[0;36m<module>\u001b[1;34m\u001b[0m\n\u001b[0;32m      1\u001b[0m \u001b[0mx\u001b[0m\u001b[1;33m=\u001b[0m\u001b[1;36m2\u001b[0m\u001b[1;33m\u001b[0m\u001b[1;33m\u001b[0m\u001b[0m\n\u001b[1;32m----> 2\u001b[1;33m \u001b[1;32massert\u001b[0m \u001b[0mx\u001b[0m\u001b[1;33m>\u001b[0m\u001b[1;36m20\u001b[0m\u001b[1;33m\u001b[0m\u001b[1;33m\u001b[0m\u001b[0m\n\u001b[0m",
      "\u001b[1;31mAssertionError\u001b[0m: "
     ]
    }
   ],
   "source": [
    "x=2\n",
    "assert x>20 "
   ]
  },
  {
   "cell_type": "code",
   "execution_count": 30,
   "id": "5c1f4dec-f1d5-4b2d-a1df-c5ac71dd7f8c",
   "metadata": {},
   "outputs": [],
   "source": [
    "assert(1 == 1)\n",
    "assert(5 > 1)\n",
    "a = \"hello\"\n",
    "b = \"hello\"\n",
    "assert(a == b)"
   ]
  },
  {
   "cell_type": "code",
   "execution_count": 31,
   "id": "a94c6b17-9e51-486b-baec-cc5edd02562d",
   "metadata": {},
   "outputs": [
    {
     "ename": "AssertionError",
     "evalue": "",
     "output_type": "error",
     "traceback": [
      "\u001b[1;31m---------------------------------------------------------------------------\u001b[0m",
      "\u001b[1;31mAssertionError\u001b[0m                            Traceback (most recent call last)",
      "\u001b[1;32m<ipython-input-31-193ead7be70a>\u001b[0m in \u001b[0;36m<module>\u001b[1;34m\u001b[0m\n\u001b[0;32m      3\u001b[0m \u001b[0ma\u001b[0m \u001b[1;33m=\u001b[0m \u001b[1;34m\"hello\"\u001b[0m\u001b[1;33m\u001b[0m\u001b[1;33m\u001b[0m\u001b[0m\n\u001b[0;32m      4\u001b[0m \u001b[0mb\u001b[0m \u001b[1;33m=\u001b[0m \u001b[1;34m\"hello00\"\u001b[0m\u001b[1;33m\u001b[0m\u001b[1;33m\u001b[0m\u001b[0m\n\u001b[1;32m----> 5\u001b[1;33m \u001b[1;32massert\u001b[0m\u001b[1;33m(\u001b[0m\u001b[0ma\u001b[0m \u001b[1;33m==\u001b[0m \u001b[0mb\u001b[0m\u001b[1;33m)\u001b[0m\u001b[1;33m\u001b[0m\u001b[1;33m\u001b[0m\u001b[0m\n\u001b[0m",
      "\u001b[1;31mAssertionError\u001b[0m: "
     ]
    }
   ],
   "source": [
    "assert(1 == 1)\n",
    "assert(5 > 1)\n",
    "a = \"hello\"\n",
    "b = \"hello00\"\n",
    "assert(a == b)"
   ]
  },
  {
   "cell_type": "code",
   "execution_count": null,
   "id": "3b632f62-b4e1-485b-b508-5155d5373ca2",
   "metadata": {},
   "outputs": [],
   "source": []
  }
 ],
 "metadata": {
  "kernelspec": {
   "display_name": "Python 3",
   "language": "python",
   "name": "python3"
  },
  "language_info": {
   "codemirror_mode": {
    "name": "ipython",
    "version": 3
   },
   "file_extension": ".py",
   "mimetype": "text/x-python",
   "name": "python",
   "nbconvert_exporter": "python",
   "pygments_lexer": "ipython3",
   "version": "3.8.8"
  }
 },
 "nbformat": 4,
 "nbformat_minor": 5
}
